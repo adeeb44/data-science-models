{
  "cells": [
    {
      "cell_type": "code",
      "execution_count": 10,
      "metadata": {
        "id": "furRMoUCCz46"
      },
      "outputs": [],
      "source": [
        "import numpy as np\n",
        "import pandas as pd\n",
        "import matplotlib.pyplot as plt\n",
        "import seaborn as sns"
      ]
    },
    {
      "cell_type": "code",
      "execution_count": 12,
      "metadata": {
        "colab": {
          "base_uri": "https://localhost:8080/",
          "height": 505
        },
        "id": "bKJXtEdgFhlM",
        "outputId": "7525dd80-8f83-4c5e-a42a-7a3d797df531"
      },
      "outputs": [
        {
          "data": {
            "text/html": [
              "\n",
              "  <div id=\"df-2b7d9a84-f765-4805-b40c-945969192fcc\">\n",
              "    <div class=\"colab-df-container\">\n",
              "      <div>\n",
              "<style scoped>\n",
              "    .dataframe tbody tr th:only-of-type {\n",
              "        vertical-align: middle;\n",
              "    }\n",
              "\n",
              "    .dataframe tbody tr th {\n",
              "        vertical-align: top;\n",
              "    }\n",
              "\n",
              "    .dataframe thead th {\n",
              "        text-align: right;\n",
              "    }\n",
              "</style>\n",
              "<table border=\"1\" class=\"dataframe\">\n",
              "  <thead>\n",
              "    <tr style=\"text-align: right;\">\n",
              "      <th></th>\n",
              "      <th>Sl_No</th>\n",
              "      <th>Customer Key</th>\n",
              "      <th>Avg_Credit_Limit</th>\n",
              "      <th>Total_Credit_Cards</th>\n",
              "      <th>Total_visits_bank</th>\n",
              "      <th>Total_visits_online</th>\n",
              "      <th>Total_calls_made</th>\n",
              "    </tr>\n",
              "  </thead>\n",
              "  <tbody>\n",
              "    <tr>\n",
              "      <th>0</th>\n",
              "      <td>1</td>\n",
              "      <td>87073</td>\n",
              "      <td>100000</td>\n",
              "      <td>2</td>\n",
              "      <td>1</td>\n",
              "      <td>1</td>\n",
              "      <td>0</td>\n",
              "    </tr>\n",
              "    <tr>\n",
              "      <th>1</th>\n",
              "      <td>2</td>\n",
              "      <td>38414</td>\n",
              "      <td>50000</td>\n",
              "      <td>3</td>\n",
              "      <td>0</td>\n",
              "      <td>10</td>\n",
              "      <td>9</td>\n",
              "    </tr>\n",
              "    <tr>\n",
              "      <th>2</th>\n",
              "      <td>3</td>\n",
              "      <td>17341</td>\n",
              "      <td>50000</td>\n",
              "      <td>7</td>\n",
              "      <td>1</td>\n",
              "      <td>3</td>\n",
              "      <td>4</td>\n",
              "    </tr>\n",
              "    <tr>\n",
              "      <th>3</th>\n",
              "      <td>4</td>\n",
              "      <td>40496</td>\n",
              "      <td>30000</td>\n",
              "      <td>5</td>\n",
              "      <td>1</td>\n",
              "      <td>1</td>\n",
              "      <td>4</td>\n",
              "    </tr>\n",
              "    <tr>\n",
              "      <th>4</th>\n",
              "      <td>5</td>\n",
              "      <td>47437</td>\n",
              "      <td>100000</td>\n",
              "      <td>6</td>\n",
              "      <td>0</td>\n",
              "      <td>12</td>\n",
              "      <td>3</td>\n",
              "    </tr>\n",
              "    <tr>\n",
              "      <th>...</th>\n",
              "      <td>...</td>\n",
              "      <td>...</td>\n",
              "      <td>...</td>\n",
              "      <td>...</td>\n",
              "      <td>...</td>\n",
              "      <td>...</td>\n",
              "      <td>...</td>\n",
              "    </tr>\n",
              "    <tr>\n",
              "      <th>655</th>\n",
              "      <td>656</td>\n",
              "      <td>51108</td>\n",
              "      <td>99000</td>\n",
              "      <td>10</td>\n",
              "      <td>1</td>\n",
              "      <td>10</td>\n",
              "      <td>0</td>\n",
              "    </tr>\n",
              "    <tr>\n",
              "      <th>656</th>\n",
              "      <td>657</td>\n",
              "      <td>60732</td>\n",
              "      <td>84000</td>\n",
              "      <td>10</td>\n",
              "      <td>1</td>\n",
              "      <td>13</td>\n",
              "      <td>2</td>\n",
              "    </tr>\n",
              "    <tr>\n",
              "      <th>657</th>\n",
              "      <td>658</td>\n",
              "      <td>53834</td>\n",
              "      <td>145000</td>\n",
              "      <td>8</td>\n",
              "      <td>1</td>\n",
              "      <td>9</td>\n",
              "      <td>1</td>\n",
              "    </tr>\n",
              "    <tr>\n",
              "      <th>658</th>\n",
              "      <td>659</td>\n",
              "      <td>80655</td>\n",
              "      <td>172000</td>\n",
              "      <td>10</td>\n",
              "      <td>1</td>\n",
              "      <td>15</td>\n",
              "      <td>0</td>\n",
              "    </tr>\n",
              "    <tr>\n",
              "      <th>659</th>\n",
              "      <td>660</td>\n",
              "      <td>80150</td>\n",
              "      <td>167000</td>\n",
              "      <td>9</td>\n",
              "      <td>0</td>\n",
              "      <td>12</td>\n",
              "      <td>2</td>\n",
              "    </tr>\n",
              "  </tbody>\n",
              "</table>\n",
              "<p>660 rows × 7 columns</p>\n",
              "</div>\n",
              "      <button class=\"colab-df-convert\" onclick=\"convertToInteractive('df-2b7d9a84-f765-4805-b40c-945969192fcc')\"\n",
              "              title=\"Convert this dataframe to an interactive table.\"\n",
              "              style=\"display:none;\">\n",
              "        \n",
              "  <svg xmlns=\"http://www.w3.org/2000/svg\" height=\"24px\"viewBox=\"0 0 24 24\"\n",
              "       width=\"24px\">\n",
              "    <path d=\"M0 0h24v24H0V0z\" fill=\"none\"/>\n",
              "    <path d=\"M18.56 5.44l.94 2.06.94-2.06 2.06-.94-2.06-.94-.94-2.06-.94 2.06-2.06.94zm-11 1L8.5 8.5l.94-2.06 2.06-.94-2.06-.94L8.5 2.5l-.94 2.06-2.06.94zm10 10l.94 2.06.94-2.06 2.06-.94-2.06-.94-.94-2.06-.94 2.06-2.06.94z\"/><path d=\"M17.41 7.96l-1.37-1.37c-.4-.4-.92-.59-1.43-.59-.52 0-1.04.2-1.43.59L10.3 9.45l-7.72 7.72c-.78.78-.78 2.05 0 2.83L4 21.41c.39.39.9.59 1.41.59.51 0 1.02-.2 1.41-.59l7.78-7.78 2.81-2.81c.8-.78.8-2.07 0-2.86zM5.41 20L4 18.59l7.72-7.72 1.47 1.35L5.41 20z\"/>\n",
              "  </svg>\n",
              "      </button>\n",
              "      \n",
              "  <style>\n",
              "    .colab-df-container {\n",
              "      display:flex;\n",
              "      flex-wrap:wrap;\n",
              "      gap: 12px;\n",
              "    }\n",
              "\n",
              "    .colab-df-convert {\n",
              "      background-color: #E8F0FE;\n",
              "      border: none;\n",
              "      border-radius: 50%;\n",
              "      cursor: pointer;\n",
              "      display: none;\n",
              "      fill: #1967D2;\n",
              "      height: 32px;\n",
              "      padding: 0 0 0 0;\n",
              "      width: 32px;\n",
              "    }\n",
              "\n",
              "    .colab-df-convert:hover {\n",
              "      background-color: #E2EBFA;\n",
              "      box-shadow: 0px 1px 2px rgba(60, 64, 67, 0.3), 0px 1px 3px 1px rgba(60, 64, 67, 0.15);\n",
              "      fill: #174EA6;\n",
              "    }\n",
              "\n",
              "    [theme=dark] .colab-df-convert {\n",
              "      background-color: #3B4455;\n",
              "      fill: #D2E3FC;\n",
              "    }\n",
              "\n",
              "    [theme=dark] .colab-df-convert:hover {\n",
              "      background-color: #434B5C;\n",
              "      box-shadow: 0px 1px 3px 1px rgba(0, 0, 0, 0.15);\n",
              "      filter: drop-shadow(0px 1px 2px rgba(0, 0, 0, 0.3));\n",
              "      fill: #FFFFFF;\n",
              "    }\n",
              "  </style>\n",
              "\n",
              "      <script>\n",
              "        const buttonEl =\n",
              "          document.querySelector('#df-2b7d9a84-f765-4805-b40c-945969192fcc button.colab-df-convert');\n",
              "        buttonEl.style.display =\n",
              "          google.colab.kernel.accessAllowed ? 'block' : 'none';\n",
              "\n",
              "        async function convertToInteractive(key) {\n",
              "          const element = document.querySelector('#df-2b7d9a84-f765-4805-b40c-945969192fcc');\n",
              "          const dataTable =\n",
              "            await google.colab.kernel.invokeFunction('convertToInteractive',\n",
              "                                                     [key], {});\n",
              "          if (!dataTable) return;\n",
              "\n",
              "          const docLinkHtml = 'Like what you see? Visit the ' +\n",
              "            '<a target=\"_blank\" href=https://colab.research.google.com/notebooks/data_table.ipynb>data table notebook</a>'\n",
              "            + ' to learn more about interactive tables.';\n",
              "          element.innerHTML = '';\n",
              "          dataTable['output_type'] = 'display_data';\n",
              "          await google.colab.output.renderOutput(dataTable, element);\n",
              "          const docLink = document.createElement('div');\n",
              "          docLink.innerHTML = docLinkHtml;\n",
              "          element.appendChild(docLink);\n",
              "        }\n",
              "      </script>\n",
              "    </div>\n",
              "  </div>\n",
              "  "
            ],
            "text/plain": [
              "     Sl_No  Customer Key  Avg_Credit_Limit  Total_Credit_Cards  \\\n",
              "0        1         87073            100000                   2   \n",
              "1        2         38414             50000                   3   \n",
              "2        3         17341             50000                   7   \n",
              "3        4         40496             30000                   5   \n",
              "4        5         47437            100000                   6   \n",
              "..     ...           ...               ...                 ...   \n",
              "655    656         51108             99000                  10   \n",
              "656    657         60732             84000                  10   \n",
              "657    658         53834            145000                   8   \n",
              "658    659         80655            172000                  10   \n",
              "659    660         80150            167000                   9   \n",
              "\n",
              "     Total_visits_bank  Total_visits_online  Total_calls_made  \n",
              "0                    1                    1                 0  \n",
              "1                    0                   10                 9  \n",
              "2                    1                    3                 4  \n",
              "3                    1                    1                 4  \n",
              "4                    0                   12                 3  \n",
              "..                 ...                  ...               ...  \n",
              "655                  1                   10                 0  \n",
              "656                  1                   13                 2  \n",
              "657                  1                    9                 1  \n",
              "658                  1                   15                 0  \n",
              "659                  0                   12                 2  \n",
              "\n",
              "[660 rows x 7 columns]"
            ]
          },
          "execution_count": 12,
          "metadata": {},
          "output_type": "execute_result"
        }
      ],
      "source": [
        "df=pd.read_csv('/content/Credit Card Customer Data.csv')\n",
        "df"
      ]
    },
    {
      "cell_type": "code",
      "execution_count": 13,
      "metadata": {
        "colab": {
          "base_uri": "https://localhost:8080/"
        },
        "id": "HMKm7vvJGmJD",
        "outputId": "fd2f265c-4a40-4ebb-d1d4-a2ea680d9497"
      },
      "outputs": [
        {
          "name": "stdout",
          "output_type": "stream",
          "text": [
            "<class 'pandas.core.frame.DataFrame'>\n",
            "RangeIndex: 660 entries, 0 to 659\n",
            "Data columns (total 7 columns):\n",
            " #   Column               Non-Null Count  Dtype\n",
            "---  ------               --------------  -----\n",
            " 0   Sl_No                660 non-null    int64\n",
            " 1   Customer Key         660 non-null    int64\n",
            " 2   Avg_Credit_Limit     660 non-null    int64\n",
            " 3   Total_Credit_Cards   660 non-null    int64\n",
            " 4   Total_visits_bank    660 non-null    int64\n",
            " 5   Total_visits_online  660 non-null    int64\n",
            " 6   Total_calls_made     660 non-null    int64\n",
            "dtypes: int64(7)\n",
            "memory usage: 36.2 KB\n"
          ]
        }
      ],
      "source": [
        "df.info() # It gives the info about dataframe"
      ]
    },
    {
      "cell_type": "code",
      "execution_count": 15,
      "metadata": {
        "colab": {
          "base_uri": "https://localhost:8080/"
        },
        "id": "3Q1of7k1GrWZ",
        "outputId": "6d7c69dd-b34d-48cf-a9d2-de6ef9e7778b"
      },
      "outputs": [
        {
          "data": {
            "text/plain": [
              "(660, 7)"
            ]
          },
          "execution_count": 15,
          "metadata": {},
          "output_type": "execute_result"
        }
      ],
      "source": [
        "df.shape # 660 rows and 7 cols"
      ]
    },
    {
      "cell_type": "code",
      "execution_count": 16,
      "metadata": {
        "colab": {
          "base_uri": "https://localhost:8080/"
        },
        "id": "nAkrUmaTGy-l",
        "outputId": "71121acb-3a28-493d-ff81-24f44cb6c897"
      },
      "outputs": [
        {
          "data": {
            "text/plain": [
              "4620"
            ]
          },
          "execution_count": 16,
          "metadata": {},
          "output_type": "execute_result"
        }
      ],
      "source": [
        "df.size #total no of elements in df"
      ]
    },
    {
      "cell_type": "code",
      "execution_count": 18,
      "metadata": {
        "colab": {
          "base_uri": "https://localhost:8080/"
        },
        "id": "BctGxPjSG2tX",
        "outputId": "66e3d89e-37cf-4182-9974-0ab0bcc8443e"
      },
      "outputs": [
        {
          "data": {
            "text/plain": [
              "array([[ 2,  1,  1,  0],\n",
              "       [ 3,  0, 10,  9],\n",
              "       [ 7,  1,  3,  4],\n",
              "       ...,\n",
              "       [ 8,  1,  9,  1],\n",
              "       [10,  1, 15,  0],\n",
              "       [ 9,  0, 12,  2]])"
            ]
          },
          "execution_count": 18,
          "metadata": {},
          "output_type": "execute_result"
        }
      ],
      "source": [
        "#divide the data into input\n",
        "x = df.iloc[:,3:7].values\n",
        "x"
      ]
    },
    {
      "cell_type": "code",
      "execution_count": 19,
      "metadata": {
        "colab": {
          "base_uri": "https://localhost:8080/"
        },
        "id": "QPne0T8KIJMp",
        "outputId": "4d8240d0-673e-4718-f536-fd8fb45d49c9"
      },
      "outputs": [
        {
          "data": {
            "text/plain": [
              "Index(['Sl_No', 'Customer Key', 'Avg_Credit_Limit', 'Total_Credit_Cards',\n",
              "       'Total_visits_bank', 'Total_visits_online', 'Total_calls_made'],\n",
              "      dtype='object')"
            ]
          },
          "execution_count": 19,
          "metadata": {},
          "output_type": "execute_result"
        }
      ],
      "source": [
        "df.columns"
      ]
    },
    {
      "cell_type": "code",
      "execution_count": 35,
      "metadata": {
        "colab": {
          "base_uri": "https://localhost:8080/"
        },
        "id": "gADGHTq3IDBA",
        "outputId": "c93d4c81-2d77-4ccb-8426-52f1809c2256"
      },
      "outputs": [
        {
          "data": {
            "text/plain": [
              "25.69046515733026"
            ]
          },
          "execution_count": 35,
          "metadata": {},
          "output_type": "execute_result"
        }
      ],
      "source": [
        "#Here our main task is to find out the number of clusters(k)\n",
        "import numpy as np\n",
        "np.sqrt(660) #660 is the total no of points/rows\n",
        "#No of Cluster - k\n",
        "#k value should not exceed the square root of total no of points/rows\n",
        "#Hence k value should be in the range of 2 to 25"
      ]
    },
    {
      "cell_type": "code",
      "execution_count": 37,
      "metadata": {
        "colab": {
          "base_uri": "https://localhost:8080/",
          "height": 283
        },
        "id": "BbgzDs_IKrW0",
        "outputId": "2c86e74e-32fa-4545-d3cf-ba527a318c5f"
      },
      "outputs": [
        {
          "data": {
            "text/plain": [
              "[<matplotlib.lines.Line2D at 0x7f042da89250>]"
            ]
          },
          "execution_count": 37,
          "metadata": {},
          "output_type": "execute_result"
        },
        {
          "data": {
            "image/png": "[encoded data removed]",
            "text/plain": [
              "<Figure size 432x288 with 1 Axes>"
            ]
          },
          "metadata": {
            "needs_background": "light"
          },
          "output_type": "display_data"
        }
      ],
      "source": [
        "from sklearn.cluster import KMeans\n",
        "k = range(2,26)#2 is inclusive and 26 is exclusive\n",
        "\n",
        "sse = [] #empty list\n",
        "\n",
        "#for i in range(2,26):\n",
        "for i in k:\n",
        "  model_demo = KMeans(n_clusters = i,random_state = 0)\n",
        "  model_demo.fit(x)\n",
        "  sse.append(model_demo.inertia_)#.inertia - calculates the sum of squared error\n",
        "plt.scatter(k,sse)\n",
        "plt.plot(k,sse)"
      ]
    },
    {
      "cell_type": "code",
      "execution_count": 38,
      "metadata": {
        "colab": {
          "base_uri": "https://localhost:8080/",
          "height": 703
        },
        "id": "QGkKdkG_LwB1",
        "outputId": "869dd5a8-1ba1-4fb6-846b-5a9b247e2ad9"
      },
      "outputs": [
        {
          "name": "stdout",
          "output_type": "stream",
          "text": [
            "2 Clusters , Score = 0.46883320693191005\n",
            "3 Clusters , Score = 0.5531009568914348\n",
            "4 Clusters , Score = 0.3538689665346918\n",
            "5 Clusters , Score = 0.3068888239286926\n",
            "6 Clusters , Score = 0.287761503097955\n",
            "7 Clusters , Score = 0.27722596672877253\n",
            "8 Clusters , Score = 0.27702178068310146\n",
            "9 Clusters , Score = 0.2585114399466726\n",
            "10 Clusters , Score = 0.2550269678063456\n",
            "11 Clusters , Score = 0.26118880639126035\n",
            "12 Clusters , Score = 0.25117788064520963\n",
            "13 Clusters , Score = 0.247008930701051\n",
            "14 Clusters , Score = 0.25598063225512524\n",
            "15 Clusters , Score = 0.24856267935505041\n",
            "16 Clusters , Score = 0.24249989281434906\n",
            "17 Clusters , Score = 0.24400583943699322\n",
            "18 Clusters , Score = 0.24889013681551508\n",
            "19 Clusters , Score = 0.2533935525172875\n",
            "20 Clusters , Score = 0.25757475867429175\n",
            "21 Clusters , Score = 0.25412369881386615\n",
            "22 Clusters , Score = 0.25949801991986704\n",
            "23 Clusters , Score = 0.2590819738135681\n",
            "24 Clusters , Score = 0.2577525696239544\n",
            "25 Clusters , Score = 0.25143896159736345\n"
          ]
        },
        {
          "data": {
            "image/png": "[encoded data removed]",
            "text/plain": [
              "<Figure size 432x288 with 1 Axes>"
            ]
          },
          "metadata": {
            "needs_background": "light"
          },
          "output_type": "display_data"
        }
      ],
      "source": [
        "#2.SILHOUETTE SCORE METHOD\n",
        "from sklearn.metrics import silhouette_score\n",
        "k = range(2,26)\n",
        "for i in k:\n",
        "  model_demo = KMeans(n_clusters = i,random_state = 0)\n",
        "  model_demo.fit(x)\n",
        "  y_pred = model_demo.predict(x)\n",
        "  print(f'{i} Clusters , Score = {silhouette_score(x,y_pred)}')\n",
        "  plt.bar(i,silhouette_score(x,y_pred))\n"
      ]
    },
    {
      "cell_type": "code",
      "execution_count": 41,
      "metadata": {
        "colab": {
          "base_uri": "https://localhost:8080/"
        },
        "id": "KR-prFiML5MD",
        "outputId": "f4febfc2-91df-4925-bb7f-7424bfb2951a"
      },
      "outputs": [
        {
          "data": {
            "text/plain": [
              "KMeans(n_clusters=7, random_state=0)"
            ]
          },
          "execution_count": 41,
          "metadata": {},
          "output_type": "execute_result"
        }
      ],
      "source": [
        "#APPLY CLUSTERER\n",
        "k=7\n",
        "from sklearn.cluster import KMeans\n",
        "model = KMeans(n_clusters = k,random_state = 0)\n",
        "model.fit(x)"
      ]
    },
    {
      "cell_type": "code",
      "execution_count": 42,
      "metadata": {
        "colab": {
          "base_uri": "https://localhost:8080/"
        },
        "id": "EeLWYEIdgkaS",
        "outputId": "f54bc963-01ec-4ca2-c712-77771b1c30d1"
      },
      "outputs": [
        {
          "data": {
            "text/plain": [
              "array([6, 3, 1, 1, 2, 3, 4, 1, 0, 0, 0, 0, 3, 0, 0, 0, 0, 0, 0, 3, 0, 0,\n",
              "       0, 0, 3, 3, 3, 3, 0, 0, 0, 0, 3, 0, 3, 0, 3, 0, 3, 3, 3, 0, 0, 0,\n",
              "       0, 3, 0, 0, 3, 0, 3, 0, 3, 3, 3, 0, 0, 3, 0, 3, 0, 3, 0, 0, 3, 0,\n",
              "       0, 0, 3, 0, 0, 0, 0, 0, 3, 0, 0, 0, 3, 0, 3, 0, 0, 0, 0, 0, 0, 0,\n",
              "       3, 3, 0, 3, 0, 0, 0, 0, 0, 0, 3, 0, 0, 3, 3, 0, 3, 3, 0, 0, 0, 3,\n",
              "       0, 3, 3, 1, 0, 0, 0, 0, 0, 3, 0, 3, 0, 3, 0, 0, 3, 3, 0, 0, 0, 0,\n",
              "       0, 3, 0, 0, 3, 3, 3, 3, 3, 0, 3, 0, 3, 0, 3, 0, 3, 0, 3, 0, 0, 0,\n",
              "       3, 0, 0, 3, 3, 0, 3, 0, 0, 3, 3, 3, 0, 0, 3, 0, 3, 0, 0, 3, 0, 0,\n",
              "       0, 3, 0, 0, 0, 3, 0, 3, 0, 0, 0, 3, 0, 0, 3, 0, 0, 3, 0, 3, 3, 0,\n",
              "       0, 3, 3, 3, 3, 0, 0, 0, 0, 0, 3, 3, 0, 0, 0, 3, 3, 0, 0, 0, 0, 3,\n",
              "       3, 0, 3, 3, 3, 0, 3, 3, 6, 1, 5, 1, 6, 6, 5, 6, 5, 5, 6, 6, 6, 5,\n",
              "       1, 6, 1, 6, 6, 1, 6, 6, 1, 1, 5, 1, 6, 5, 1, 5, 6, 5, 6, 1, 6, 6,\n",
              "       5, 6, 6, 6, 6, 5, 6, 1, 1, 6, 5, 1, 6, 5, 5, 6, 5, 6, 6, 6, 1, 5,\n",
              "       6, 6, 1, 5, 6, 1, 1, 6, 5, 5, 5, 6, 5, 5, 6, 5, 1, 5, 5, 5, 6, 6,\n",
              "       5, 5, 6, 6, 1, 1, 1, 1, 5, 5, 5, 1, 6, 6, 1, 1, 5, 5, 5, 6, 6, 5,\n",
              "       1, 6, 6, 5, 6, 6, 6, 1, 6, 6, 6, 6, 5, 1, 6, 6, 6, 1, 5, 1, 1, 6,\n",
              "       6, 5, 5, 5, 6, 5, 6, 1, 6, 1, 6, 6, 5, 5, 5, 6, 1, 5, 1, 6, 6, 6,\n",
              "       5, 1, 5, 1, 6, 1, 1, 6, 1, 1, 6, 6, 1, 1, 6, 5, 1, 6, 6, 6, 6, 6,\n",
              "       6, 6, 1, 6, 1, 5, 1, 6, 1, 1, 1, 6, 6, 1, 1, 5, 6, 6, 1, 1, 1, 5,\n",
              "       6, 6, 1, 5, 6, 1, 6, 1, 1, 5, 5, 6, 6, 5, 1, 1, 1, 5, 6, 1, 1, 5,\n",
              "       1, 1, 1, 5, 6, 5, 5, 6, 6, 1, 6, 5, 5, 5, 1, 1, 5, 1, 1, 5, 5, 5,\n",
              "       6, 5, 1, 5, 1, 6, 5, 6, 5, 1, 1, 1, 1, 5, 5, 5, 6, 1, 6, 6, 1, 6,\n",
              "       6, 6, 1, 6, 5, 6, 6, 6, 6, 1, 6, 1, 1, 1, 6, 5, 5, 6, 1, 6, 6, 1,\n",
              "       5, 6, 1, 6, 1, 1, 1, 1, 1, 5, 5, 1, 5, 6, 5, 1, 6, 1, 1, 6, 1, 1,\n",
              "       6, 1, 6, 1, 1, 1, 5, 5, 6, 1, 5, 6, 1, 5, 5, 6, 1, 5, 1, 5, 1, 5,\n",
              "       5, 6, 6, 5, 6, 5, 5, 5, 5, 5, 6, 5, 6, 6, 6, 6, 6, 6, 6, 6, 6, 1,\n",
              "       5, 1, 6, 1, 6, 1, 5, 6, 6, 5, 6, 6, 5, 5, 1, 1, 6, 5, 1, 1, 6, 6,\n",
              "       1, 5, 6, 6, 5, 6, 6, 5, 6, 1, 1, 1, 1, 6, 6, 6, 6, 5, 2, 4, 4, 4,\n",
              "       4, 2, 2, 2, 2, 2, 2, 4, 4, 4, 4, 2, 2, 4, 2, 2, 4, 4, 4, 4, 4, 4,\n",
              "       4, 2, 2, 4, 4, 4, 2, 2, 4, 4, 4, 4, 2, 2, 4, 2, 4, 4, 2, 4, 2, 2],\n",
              "      dtype=int32)"
            ]
          },
          "execution_count": 42,
          "metadata": {},
          "output_type": "execute_result"
        }
      ],
      "source": [
        "y = model.predict(x) #Predicted output values\n",
        "y"
      ]
    },
    {
      "cell_type": "code",
      "execution_count": 43,
      "metadata": {
        "colab": {
          "base_uri": "https://localhost:8080/"
        },
        "id": "ZCj3v3B6goz9",
        "outputId": "4ac45775-3a99-4dc6-9565-eff52c32133b"
      },
      "outputs": [
        {
          "data": {
            "text/plain": [
              "660"
            ]
          },
          "execution_count": 43,
          "metadata": {},
          "output_type": "execute_result"
        }
      ],
      "source": [
        "y.size"
      ]
    },
    {
      "cell_type": "code",
      "execution_count": 44,
      "metadata": {
        "colab": {
          "base_uri": "https://localhost:8080/"
        },
        "id": "3EwBj4sggv4D",
        "outputId": "557e28ca-17aa-41ea-eb65-ab1a76f5cee2"
      },
      "outputs": [
        {
          "data": {
            "text/plain": [
              "array([1, 1, 0, 1, 2, 3, 3, 3, 3, 3, 2, 2, 3, 3, 2, 2, 2, 2, 2, 3, 3, 2,\n",
              "       3, 2, 3, 3, 2, 3, 2, 3, 2, 3, 2, 3, 2, 2, 3, 3, 3, 3, 2, 2, 2, 3,\n",
              "       3, 2, 3, 2, 2, 3, 2, 2, 3, 2, 2, 2, 3, 3, 2, 3, 3, 2, 2, 2, 3, 2,\n",
              "       3, 2, 3, 2, 3, 3, 3, 2, 2, 2, 2, 2, 3, 3, 3, 3, 3, 2, 2, 2, 3, 3,\n",
              "       2, 2, 2, 2, 2, 2, 2, 3, 2, 2, 3, 3, 3, 2, 2, 3, 3, 3, 3, 3, 2, 3,\n",
              "       2, 3, 2, 2, 3, 3, 3, 3, 2, 2, 2, 3, 3, 2, 3])"
            ]
          },
          "execution_count": 44,
          "metadata": {},
          "output_type": "execute_result"
        }
      ],
      "source": [
        "x[y == 1,1]\n",
        "#the first '1' is the cluster no 1 and the second '1' is the column index 1\n",
        "#the value of input , when cluster 1 is selected and column with index 1 is selected"
      ]
    },
    {
      "cell_type": "code",
      "execution_count": 45,
      "metadata": {
        "colab": {
          "base_uri": "https://localhost:8080/"
        },
        "id": "2mliS8Kgg0OD",
        "outputId": "6579a0b9-b25e-4675-f76b-438bb48feb4c"
      },
      "outputs": [
        {
          "data": {
            "text/plain": [
              "(array([0, 1, 2, 3, 4, 5, 6], dtype=int32),\n",
              " array([133, 125,  22,  88,  28, 109, 155]))"
            ]
          },
          "execution_count": 45,
          "metadata": {},
          "output_type": "execute_result"
        }
      ],
      "source": [
        "np.unique(y,return_counts = True)"
      ]
    },
    {
      "cell_type": "code",
      "execution_count": 46,
      "metadata": {
        "colab": {
          "base_uri": "https://localhost:8080/"
        },
        "id": "KIlMB7XNg5ez",
        "outputId": "3fb09551-3897-4c83-8e2f-9a0cebe30249"
      },
      "outputs": [
        {
          "data": {
            "text/plain": [
              "660"
            ]
          },
          "execution_count": 46,
          "metadata": {},
          "output_type": "execute_result"
        }
      ],
      "source": [
        "133+125+22+88+28+109+155"
      ]
    },
    {
      "cell_type": "code",
      "execution_count": 47,
      "metadata": {
        "colab": {
          "base_uri": "https://localhost:8080/",
          "height": 338
        },
        "id": "wymIz5p3hO3X",
        "outputId": "8a572b0d-e368-492a-961a-79bad35d9758"
      },
      "outputs": [
        {
          "data": {
            "text/plain": [
              "<matplotlib.legend.Legend at 0x7f04290d2ed0>"
            ]
          },
          "execution_count": 47,
          "metadata": {},
          "output_type": "execute_result"
        },
        {
          "data": {
            "image/png": "[encoded data removed]",
            "text/plain": [
              "<Figure size 720x360 with 1 Axes>"
            ]
          },
          "metadata": {
            "needs_background": "light"
          },
          "output_type": "display_data"
        }
      ],
      "source": [
        "#FINAL VISUALISATION\n",
        "plt.figure(figsize = (10,5))\n",
        "for i in range(k): # i iterates from 0 to 6\n",
        "  plt.scatter(x[y == i,0],x[y == i,1],label = f'Cluster {i}')\n",
        "plt.scatter(model.cluster_centers_[:,0],model.cluster_centers_[:,1],s = 100,c = 'yellow',label = 'Centroids')\n",
        "plt.legend()"
      ]
    }
  ],
  "metadata": {
    "colab": {
      "provenance": [],
      "toc_visible": true
    },
    "kernelspec": {
      "display_name": "Python 3",
      "name": "python3"
    },
    "language_info": {
      "name": "python"
    }
  },
  "nbformat": 4,
  "nbformat_minor": 0
}
